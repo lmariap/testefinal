{
 "cells": [
  {
   "cell_type": "code",
   "execution_count": 44,
   "id": "8d5906df",
   "metadata": {},
   "outputs": [],
   "source": [
    "from openpyxl import Workbook\n",
    "orcamento =  Workbook()"
   ]
  },
  {
   "cell_type": "code",
   "execution_count": 45,
   "id": "65e0ff35",
   "metadata": {},
   "outputs": [],
   "source": [
    "Novembro = orcamento.active"
   ]
  },
  {
   "cell_type": "code",
   "execution_count": 46,
   "id": "fbe47fdc",
   "metadata": {},
   "outputs": [],
   "source": [
    "Novembro[\"A1\"] = \"contas\""
   ]
  },
  {
   "cell_type": "code",
   "execution_count": 47,
   "id": "043a1b07",
   "metadata": {},
   "outputs": [],
   "source": [
    "Novembro[\"B1\"] = \"receitas\""
   ]
  },
  {
   "cell_type": "code",
   "execution_count": 48,
   "id": "5c3956cb",
   "metadata": {},
   "outputs": [],
   "source": [
    "Novembro[\"C1\"] = \"despesas\"\n",
    "Novembro[\"D1\"] = \"resultados\""
   ]
  },
  {
   "cell_type": "code",
   "execution_count": 49,
   "id": "cbe9f279",
   "metadata": {},
   "outputs": [],
   "source": [
    "Novembro[\"A2\"] = \"alimentacao\"\n",
    "Novembro[\"A3\"] = \"energia eletrica\"\n",
    "Novembro[\"A4\"] = \"transporte\""
   ]
  },
  {
   "cell_type": "code",
   "execution_count": 50,
   "id": "3a61df6d",
   "metadata": {},
   "outputs": [],
   "source": [
    "linha2 = [\"A2\", \"B2\", \"C2\"]\n",
    "valores = [1000, 300, 1000-300]"
   ]
  },
  {
   "cell_type": "code",
   "execution_count": 55,
   "id": "009936c5",
   "metadata": {},
   "outputs": [],
   "source": [
    "#Novembro[\"A2\"]= valores[0]\n",
    "Novembro[\"B2\"]=valores[0]\n",
    "Novembro[\"C2\"]=200\n",
    "Novembro[\"C3\"]=200\n",
    "Novembro[\"C4\"]=200\n",
    "Novembro[\"D2\"]= Novembro[\"B2\"].value - (Novembro [\"C2\"].value + Novembro[\"C3\"].value + Novembro[\"C4\"].value)"
   ]
  },
  {
   "cell_type": "code",
   "execution_count": 57,
   "id": "a8038ac9",
   "metadata": {},
   "outputs": [
    {
     "name": "stdout",
     "output_type": "stream",
     "text": [
      "400\n"
     ]
    }
   ],
   "source": [
    "print(Novembro[\"D2\"].value)"
   ]
  },
  {
   "cell_type": "code",
   "execution_count": 58,
   "id": "e584890b",
   "metadata": {},
   "outputs": [],
   "source": [
    "orcamento.save(\"orcamento.xlsx\")"
   ]
  },
  {
   "cell_type": "code",
   "execution_count": null,
   "id": "890a051c",
   "metadata": {},
   "outputs": [],
   "source": []
  }
 ],
 "metadata": {
  "kernelspec": {
   "display_name": "Python 3 (ipykernel)",
   "language": "python",
   "name": "python3"
  },
  "language_info": {
   "codemirror_mode": {
    "name": "ipython",
    "version": 3
   },
   "file_extension": ".py",
   "mimetype": "text/x-python",
   "name": "python",
   "nbconvert_exporter": "python",
   "pygments_lexer": "ipython3",
   "version": "3.9.15"
  }
 },
 "nbformat": 4,
 "nbformat_minor": 5
}
